{
  "nbformat": 4,
  "nbformat_minor": 0,
  "metadata": {
    "colab": {
      "provenance": []
    },
    "kernelspec": {
      "name": "python3",
      "display_name": "Python 3"
    },
    "language_info": {
      "name": "python"
    }
  },
  "cells": [
    {
      "cell_type": "code",
      "execution_count": 26,
      "metadata": {
        "id": "21AROHRP_DWH"
      },
      "outputs": [],
      "source": [
        "import numpy as np\n",
        "import matplotlib as mpl\n",
        "import matplotlib.pyplot as plt\n",
        "from typing import Callable"
      ]
    },
    {
      "cell_type": "code",
      "source": [
        "def create_equation(\n",
        "  f: Callable[[float], float],\n",
        "  deltaT: float\n",
        ") -> Callable[[float, float], float]:\n",
        "  \"\"\"Gets noise and delta t and compose recurrent function depending on t and x(t)\n",
        "\n",
        "    Parameters\n",
        "    ----------\n",
        "    f: Callable[[float], float]\n",
        "      Time-dependent noise function.\n",
        "    deltaT: float\n",
        "      Increment of the argument.\n",
        "\n",
        "    Returns\n",
        "    -------\n",
        "    Callable[[float, float], float]\n",
        "        a function, that gets t and value of x(t) and return value of x(t+1)\n",
        "  \"\"\"\n",
        "  return lambda t, x_t: x_t + deltaT*np.sin(x_t) + deltaT*f(t)\n"
      ],
      "metadata": {
        "id": "GuEEWhLTDawY"
      },
      "execution_count": 31,
      "outputs": []
    },
    {
      "cell_type": "markdown",
      "source": [
        "шум это просто массив, длина которого совпадает с длинной массива точек времени. То есть на каждый таймстемп, у нас должно быть значение шума в этой точке. При этом хочется иметь функцию, в которую можно засунуть разный шум, а также менять размерность точек времени и шума\n",
        "\n",
        "можно передавать генератор (библиотечную функцию) шума в креатор уравнения, также передавать параметры для арэнджа в видемассива и потом деструктуризовать этот аргумент сразу в аренж"
      ],
      "metadata": {
        "id": "Pj-X8_W5UNjG"
      }
    },
    {
      "cell_type": "markdown",
      "source": [
        "# Without noise\n",
        "\n",
        "Create recurrent equation depending on t and x(t)."
      ],
      "metadata": {
        "id": "O_MFbujML6Zj"
      }
    },
    {
      "cell_type": "code",
      "source": [
        "equation = create_equation(lambda t: 0, 0.1)"
      ],
      "metadata": {
        "id": "NBoEn_9FLLf6"
      },
      "execution_count": 118,
      "outputs": []
    },
    {
      "cell_type": "code",
      "source": [
        "ts = np.arange(0, 1000, 5)\n",
        "x_t = np.random.rand()\n",
        "x_ts = []\n",
        "\n",
        "for t in ts:\n",
        "  x_ts.append(x_t)\n",
        "  x_t = equation(t, x_t)"
      ],
      "metadata": {
        "id": "sAG2iKro3H6B"
      },
      "execution_count": 130,
      "outputs": []
    },
    {
      "cell_type": "code",
      "source": [
        "plt.plot(ts, x_ts)"
      ],
      "metadata": {
        "colab": {
          "base_uri": "https://localhost:8080/",
          "height": 282
        },
        "id": "0fGEX9ca1fQv",
        "outputId": "93c5119f-3a3d-4f6b-86a7-86d428206343"
      },
      "execution_count": 131,
      "outputs": [
        {
          "output_type": "execute_result",
          "data": {
            "text/plain": [
              "[<matplotlib.lines.Line2D at 0x7f0b22850700>]"
            ]
          },
          "metadata": {},
          "execution_count": 131
        },
        {
          "output_type": "display_data",
          "data": {
            "text/plain": [
              "<Figure size 432x288 with 1 Axes>"
            ],
            "image/png": "[encoded data removed]"
          },
          "metadata": {
            "needs_background": "light"
          }
        }
      ]
    },
    {
      "cell_type": "code",
      "source": [],
      "metadata": {
        "id": "_UUjn0WRWtEs"
      },
      "execution_count": null,
      "outputs": []
    }
  ]
}